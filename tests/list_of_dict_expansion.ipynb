{
 "cells": [
  {
   "cell_type": "code",
   "execution_count": 1,
   "id": "9900f5da-9c85-4180-8394-0d3c4d397a2d",
   "metadata": {},
   "outputs": [],
   "source": [
    "list_of_dict = [{\"name\": \"Alice\", \"age\": 30},\n",
    "                 {\"name\": \"Bob\", \"age\": 25},\n",
    "                 {\"name\": \"Charles\", \"age\": 35}]"
   ]
  },
  {
   "cell_type": "code",
   "execution_count": 32,
   "id": "3ebb8971-1bed-4180-bea6-783eff5d8541",
   "metadata": {},
   "outputs": [
    {
     "name": "stdout",
     "output_type": "stream",
     "text": [
      "1 Alice 30\n",
      "2 Bob 25\n",
      "3 Charles 35\n"
     ]
    }
   ],
   "source": [
    "for p in list_of_dict:\n",
    "    # row = [str(r) for r in p.values()]\n",
    "    # print(row)\n",
    "    \n",
    "    # i = str(list_of_dict.index(p) + 1)\n",
    "    # print(i)\n",
    "    # print([i] + row)\n",
    "\n",
    "    # print([str(list_of_dict.index(p) + 1)] + [str(r) for r in p.values()])\n",
    "    print(*[str(list_of_dict.index(p) + 1)] + [str(r) for r in p.values()]) # 0 based index, so add 1 for 1 based index"
   ]
  },
  {
   "cell_type": "code",
   "execution_count": 47,
   "id": "677d9f75-83f4-41bb-984c-1c2420081d70",
   "metadata": {},
   "outputs": [],
   "source": [
    "def dict_to_list(dict, list_of_dict):\n",
    "    \"\"\"\n",
    "    extract dict values\n",
    "    get dict index with list with 1 based index\n",
    "    return List consisting of [index, value1, value2, ...] all elements as string\n",
    "    \"\"\"\n",
    "    values = [str(v) for v in dict.values()]\n",
    "    return [str(list_of_dict.index(dict) + 1)] + values"
   ]
  },
  {
   "cell_type": "code",
   "execution_count": 49,
   "id": "63a2a553-7981-4c58-a45e-205ebbc8c421",
   "metadata": {},
   "outputs": [
    {
     "name": "stdout",
     "output_type": "stream",
     "text": [
      "['1', 'Alice', '30']\n",
      "1 Alice 30\n",
      "\n",
      "['2', 'Bob', '25']\n",
      "2 Bob 25\n",
      "\n",
      "['3', 'Charles', '35']\n",
      "3 Charles 35\n",
      "\n"
     ]
    }
   ],
   "source": [
    "for dict in list_of_dict:\n",
    "    row_values = dict_to_list(dict=dict, list_of_dict=list_of_dict)\n",
    "    print(row_values)\n",
    "    print(*row_values) # can use *row_values to stream arguments\n",
    "    print()"
   ]
  },
  {
   "cell_type": "code",
   "execution_count": null,
   "id": "8ec5cc1a-589c-4bc3-9432-049dbfdf3bca",
   "metadata": {},
   "outputs": [],
   "source": []
  }
 ],
 "metadata": {
  "kernelspec": {
   "display_name": "Python 3 (ipykernel)",
   "language": "python",
   "name": "python3"
  },
  "language_info": {
   "codemirror_mode": {
    "name": "ipython",
    "version": 3
   },
   "file_extension": ".py",
   "mimetype": "text/x-python",
   "name": "python",
   "nbconvert_exporter": "python",
   "pygments_lexer": "ipython3",
   "version": "3.13.1"
  }
 },
 "nbformat": 4,
 "nbformat_minor": 5
}
